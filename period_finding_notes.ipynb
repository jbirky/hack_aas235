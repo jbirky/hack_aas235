{
 "cells": [
  {
   "cell_type": "code",
   "execution_count": 3,
   "metadata": {},
   "outputs": [],
   "source": [
    "import numpy as np\n",
    "import pandas as pd\n",
    "\n",
    "import matplotlib.pyplot as plt\n",
    "from matplotlib import rc\n",
    "plt.style.use('classic')\n",
    "rc('font', **{'family': 'serif', 'serif': ['Computer Modern']})\n",
    "rc('text', usetex=True)\n",
    "rc('figure', facecolor='w')\n",
    "rc('xtick', labelsize=20)\n",
    "rc('ytick', labelsize=20)"
   ]
  },
  {
   "cell_type": "code",
   "execution_count": 4,
   "metadata": {},
   "outputs": [],
   "source": [
    "from astropy.timeseries import BoxLeastSquares, LombScargle"
   ]
  },
  {
   "cell_type": "markdown",
   "metadata": {},
   "source": [
    "### Overview of period finding algorithms: \n",
    "\n",
    "[A comparison of period finding algorithms (Graham et al. 2011)](https://academic.oup.com/mnras/article/434/4/3423/963890)\n",
    "\n",
    "Implementations of some popular algorithms:\n",
    "- Lomb-Scargle Periodogram ([astropy implementation](https://docs.astropy.org/en/stable/timeseries/lombscargle.html))\n",
    "- Box Least Squares ([astropy implementation](https://docs.astropy.org/en/stable/timeseries/bls.html))\n",
    "- add others here...\n",
    "\n",
    "**Problem**: although many algorithms for period finding exist, no one algorithm works uniformly well for all types of periodic variables! Some algorithms favor multiples or fractions of the true period, or do not pick out the dominant period component.\n",
    "\n",
    "Table from Graham 2011:\n",
    "![](nb_files/img1.png)\n",
    "![](nb_files/img2.png)\n",
    "\n",
    "\n",
    "**Project goal**: can we use supervised machine learning (trained on sources with known periods) to combine multiple period-finding methods to consistently select the correct period?"
   ]
  },
  {
   "cell_type": "code",
   "execution_count": null,
   "metadata": {},
   "outputs": [],
   "source": []
  },
  {
   "cell_type": "markdown",
   "metadata": {},
   "source": [
    "### Dataset from TESS"
   ]
  },
  {
   "cell_type": "code",
   "execution_count": null,
   "metadata": {},
   "outputs": [],
   "source": []
  },
  {
   "cell_type": "markdown",
   "metadata": {},
   "source": [
    "### A proposed solution to automated period-finding using supervised machine learning classification:\n",
    "\n",
    "**Supervised learning** requires two steps:\n",
    "1. **Training step**: given an *n*-dimensional **feature vector** for *N* training sources with known periods (represented by a **label vector**), the parameters of a machine learning classifier are optimized to output the training labels. \n",
    "\n",
    "$$\n",
    "\\underbrace{\n",
    "    \\begin{bmatrix}\n",
    "    f_{11} \\\\ f_{12} \\\\  \\vdots \\\\ f_{1n}\n",
    "    \\end{bmatrix}, \n",
    "    \\begin{bmatrix}\n",
    "    f_{21} \\\\ f_{22} \\\\  \\vdots \\\\ f_{2n}\n",
    "    \\end{bmatrix},\n",
    "    \\dots ,\n",
    "    \\begin{bmatrix}\n",
    "    f_{N1} \\\\ f_{N2} \\\\  \\vdots \\\\ f_{Nn}\n",
    "    \\end{bmatrix}\n",
    "}_{Input: \\, Training \\, feature \\, vectors}\n",
    "\\qquad \\Rightarrow \\qquad\n",
    "\\fbox{ML Classifier}\n",
    "\\qquad \\Rightarrow \\qquad\n",
    "\\underbrace{\n",
    "    \\begin{bmatrix}\n",
    "    1 \\\\ 0 \\\\ \\vdots \\\\ 0\n",
    "    \\end{bmatrix}, \n",
    "    \\begin{bmatrix}\n",
    "    0 \\\\ 0 \\\\  \\vdots \\\\ 1\n",
    "    \\end{bmatrix},\n",
    "    \\dots ,\n",
    "    \\begin{bmatrix}\n",
    "    0 \\\\ 1 \\\\  \\vdots \\\\ 1\n",
    "    \\end{bmatrix}\n",
    "}_{Output: \\, Training \\, label \\, vectors}\n",
    "$$\n",
    "\n",
    "\n",
    "2. **Test step**: the paramters of the classifier learned in step (1) are held fixed, and the label vector is computed for a feature vector of a new source, unseen before by the classifier.\n",
    "\n",
    "$$\n",
    "\\underbrace{\n",
    "    \\begin{bmatrix}\n",
    "    f_{11} \\\\ f_{12} \\\\  \\vdots \\\\ f_{1n}\n",
    "    \\end{bmatrix}\n",
    "}_{Input: \\, New \\, feature \\, vector}\n",
    "\\qquad \\Rightarrow \\qquad\n",
    "\\fbox{ML Classifier}\n",
    "\\qquad \\Rightarrow \\qquad\n",
    "\\underbrace{\n",
    "    \\begin{bmatrix}\n",
    "    1 \\\\ 0 \\\\ \\vdots \\\\ 0\n",
    "    \\end{bmatrix}, \n",
    "}_{Output: \\, Test \\, label \\, vector}\n",
    "$$"
   ]
  },
  {
   "cell_type": "markdown",
   "metadata": {},
   "source": [
    "### Defining the label vector:\n",
    "\n",
    "An example of how we could define classes might be:\n",
    "\n",
    "$$ [P_{LS}^{(1)}, P_{LS}^{(2)}, \\dots, P_{BLS}^{(1)}, P_{BLS}^{(2)}, \\dots, P_{ACF}^{(1)}, P_{ACF}^{(2)}, \\dots] $$\n",
    "\n",
    "where \n",
    "- $P_{LS}^{(i)}$ would represent the ith harmonic of the Lomb-Scargle (LS) periodogram\n",
    "- $P_{BLS}^{(i)}$ would represent the ith harmonic of the Box Least Squares (BLS) periodogram\n",
    "- $P_{ACF}^{(i)}$ would represent the ith peak in the auto-correlation function\n",
    "- etc. for other methods\n",
    "\n",
    "and the label vector associated with a source would be represented by a vector of 1s and 0s, which correspond to which classes give the correct period (within some error). For example, using the convention defined above the vector\n",
    "$$ [1,0,\\dots,0,1,\\dots,0,0] $$\n",
    "the first highest LS peak and the second highest BLS peak give the correct period, and ACF does not find the correct period.\n",
    "A vector of all zeros would represent a source that is either non-periodic, or one which none of the methods (e.g. LS, BLS, ACF) used all estimate the wrong period."
   ]
  },
  {
   "cell_type": "markdown",
   "metadata": {},
   "source": [
    "### Defining the ML Classifier:\n",
    "\n",
    "I think this is a [multi-label classification](https://en.wikipedia.org/wiki/Multi-label_classification) problem. scikit-learn might be the place to start hacking:\n",
    "- https://scikit-learn.org/stable/modules/multiclass.html#multilabel-classification-format"
   ]
  },
  {
   "cell_type": "markdown",
   "metadata": {},
   "source": [
    "### Defining the feature vector:\n",
    "\n",
    "Examples of features we might want to extract could be:\n",
    "- the period values\n",
    "- periodogram peak heights and widths ([scipy.signal peak finding](https://docs.scipy.org/doc/scipy/reference/generated/scipy.signal.find_peaks.html))\n",
    "- periodogram peak significance and false alarm probability ([astropy implementation](https://docs.astropy.org/en/stable/timeseries/lombscargle.html#peak-significance-and-false-alarm-probabilities))\n",
    "- auto-correlation function peak heights\n",
    "- light curve statistics?\n",
    "- $\\chi^2$ of phase-folded light curve\n",
    "- others...\n",
    "\n",
    "Potentially useful libraries:\n",
    "- [cesium](http://cesium-ml.org/)\n",
    "- [tsfresh](https://tsfresh.readthedocs.io/en/latest/index.html)\n",
    "- [feets](https://feets.readthedocs.io/en/latest/)\n",
    "- others?"
   ]
  },
  {
   "cell_type": "code",
   "execution_count": null,
   "metadata": {},
   "outputs": [],
   "source": []
  }
 ],
 "metadata": {
  "kernelspec": {
   "display_name": "Python (astro)",
   "language": "python",
   "name": "astro"
  },
  "language_info": {
   "codemirror_mode": {
    "name": "ipython",
    "version": 3
   },
   "file_extension": ".py",
   "mimetype": "text/x-python",
   "name": "python",
   "nbconvert_exporter": "python",
   "pygments_lexer": "ipython3",
   "version": "3.7.5"
  }
 },
 "nbformat": 4,
 "nbformat_minor": 2
}
